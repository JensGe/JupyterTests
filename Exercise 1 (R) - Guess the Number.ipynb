{
 "cells": [
  {
   "cell_type": "code",
   "execution_count": 5,
   "metadata": {},
   "outputs": [],
   "source": [
    "# Guess the Number (R-Script)\n",
    "guess_number <- function() {\n",
    "  fix_number <- sample(1:100,1,replace=T)\n",
    "  user_guess <- 2000\n",
    "  counter <- 0\n",
    "  repeat {\n",
    "    counter = counter + 1\n",
    "    user_guess <- readline('Type your Guess: ')\n",
    "    if (user_guess < fix_number) {\n",
    "      message('Your guess is too small. Try Again')\n",
    "    } else if (user_guess > fix_number) {\n",
    "      message('Your guess is too high. Try Again')\n",
    "    } \n",
    "    if (user_guess == fix_number) break;\n",
    "    }\n",
    "  message(cat('You guessed the correct Number in', counter, 'tries.'))\n",
    "}\n",
    "\n"
   ]
  },
  {
   "cell_type": "code",
   "execution_count": 6,
   "metadata": {
    "scrolled": true
   },
   "outputs": [
    {
     "name": "stdout",
     "output_type": "stream",
     "text": [
      "Type your Guess: 50\n"
     ]
    },
    {
     "name": "stderr",
     "output_type": "stream",
     "text": [
      "Your guess is too high. Try Again\n"
     ]
    },
    {
     "name": "stdout",
     "output_type": "stream",
     "text": [
      "Type your Guess: 25\n"
     ]
    },
    {
     "name": "stderr",
     "output_type": "stream",
     "text": [
      "Your guess is too high. Try Again\n"
     ]
    },
    {
     "name": "stdout",
     "output_type": "stream",
     "text": [
      "Type your Guess: 12\n"
     ]
    },
    {
     "name": "stderr",
     "output_type": "stream",
     "text": [
      "Your guess is too small. Try Again\n"
     ]
    },
    {
     "name": "stdout",
     "output_type": "stream",
     "text": [
      "Type your Guess: 18\n",
      "You guessed the correct Number in 4 tries."
     ]
    },
    {
     "name": "stderr",
     "output_type": "stream",
     "text": [
      "\n"
     ]
    }
   ],
   "source": [
    "guess_number()"
   ]
  },
  {
   "cell_type": "code",
   "execution_count": null,
   "metadata": {},
   "outputs": [],
   "source": []
  }
 ],
 "metadata": {
  "kernelspec": {
   "display_name": "R",
   "language": "R",
   "name": "ir"
  },
  "language_info": {
   "codemirror_mode": "r",
   "file_extension": ".r",
   "mimetype": "text/x-r-source",
   "name": "R",
   "pygments_lexer": "r",
   "version": "3.4.3"
  }
 },
 "nbformat": 4,
 "nbformat_minor": 2
}
