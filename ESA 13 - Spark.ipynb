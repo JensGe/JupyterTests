{
 "cells": [
  {
   "cell_type": "code",
   "execution_count": 1,
   "metadata": {},
   "outputs": [],
   "source": [
    "from pyspark import SparkContext, SparkConf"
   ]
  },
  {
   "cell_type": "code",
   "execution_count": 2,
   "metadata": {},
   "outputs": [],
   "source": [
    "sc = SparkContext.getOrCreate(SparkConf().setMaster(\"local[*]\"))\n",
    "text = sc.textFile(\"t8.shakespeare.txt\")"
   ]
  },
  {
   "cell_type": "code",
   "execution_count": 3,
   "metadata": {},
   "outputs": [
    {
     "data": {
      "text/plain": [
       "124456"
      ]
     },
     "execution_count": 3,
     "metadata": {},
     "output_type": "execute_result"
    }
   ],
   "source": [
    "text.count()"
   ]
  },
  {
   "cell_type": "code",
   "execution_count": 4,
   "metadata": {},
   "outputs": [],
   "source": [
    "# remove punctuation and convert to lower case\n",
    "import string\n",
    "removed_punct = text.map(lambda sent: sent.translate({ord(c): None for c in string.punctuation}).lower())"
   ]
  },
  {
   "cell_type": "code",
   "execution_count": 5,
   "metadata": {},
   "outputs": [],
   "source": [
    "tokenize = removed_punct.flatMap(lambda sent: sent.split(\" \"))"
   ]
  },
  {
   "cell_type": "code",
   "execution_count": 6,
   "metadata": {},
   "outputs": [],
   "source": [
    "result = tokenize.map(lambda word: (word, 1)).reduceByKey(lambda a, b: a + b)"
   ]
  },
  {
   "cell_type": "code",
   "execution_count": 7,
   "metadata": {},
   "outputs": [
    {
     "data": {
      "text/plain": [
       "[('the', 27643),\n",
       " ('and', 26728),\n",
       " ('i', 20681),\n",
       " ('to', 19198),\n",
       " ('of', 18173),\n",
       " ('a', 14613),\n",
       " ('you', 13649),\n",
       " ('my', 12480),\n",
       " ('that', 11121),\n",
       " ('in', 10967),\n",
       " ('is', 9598),\n",
       " ('not', 8725),\n",
       " ('for', 8244),\n",
       " ('with', 7996),\n",
       " ('me', 7768),\n",
       " ('it', 7690),\n",
       " ('be', 7090),\n",
       " ('your', 6882),\n",
       " ('his', 6857),\n",
       " ('this', 6847),\n",
       " ('but', 6270),\n",
       " ('he', 6251),\n",
       " ('as', 5958),\n",
       " ('have', 5887)]"
      ]
     },
     "execution_count": 7,
     "metadata": {},
     "output_type": "execute_result"
    }
   ],
   "source": [
    "# Displaying the 24 most used Words (sorted by Count)\n",
    "result.filter(lambda word: word[0] != '').takeOrdered(24, key = lambda x: -x[1])"
   ]
  },
  {
   "cell_type": "code",
   "execution_count": 8,
   "metadata": {},
   "outputs": [
    {
     "data": {
      "text/plain": [
       "('have', 5887)"
      ]
     },
     "execution_count": 8,
     "metadata": {},
     "output_type": "execute_result"
    }
   ],
   "source": [
    "# Displaying the #24 most used word\n",
    "result.filter(lambda word: word[0] != '').takeOrdered(24, key = lambda x: -x[1])[-1]"
   ]
  },
  {
   "cell_type": "markdown",
   "metadata": {},
   "source": [
    "The original Gutenberg Export contains several License texts, which were removed manually and saved as a new file."
   ]
  },
  {
   "cell_type": "code",
   "execution_count": 9,
   "metadata": {},
   "outputs": [
    {
     "data": {
      "text/plain": [
       "122427"
      ]
     },
     "execution_count": 9,
     "metadata": {},
     "output_type": "execute_result"
    }
   ],
   "source": [
    "text_0 = sc.textFile(\"t8.shakespeare_0.txt\")\n",
    "text_0.count()"
   ]
  },
  {
   "cell_type": "code",
   "execution_count": 10,
   "metadata": {},
   "outputs": [],
   "source": [
    "removed_punct_0 = text_0.map(lambda sent: sent.translate({ord(c): None for c in string.punctuation}).lower())"
   ]
  },
  {
   "cell_type": "code",
   "execution_count": 11,
   "metadata": {},
   "outputs": [],
   "source": [
    "tokenize_0 = removed_punct_0.flatMap(lambda sent: sent.split(\" \"))"
   ]
  },
  {
   "cell_type": "code",
   "execution_count": 12,
   "metadata": {},
   "outputs": [],
   "source": [
    "result_0 = tokenize_0.map(lambda word: (word, 1)).reduceByKey(lambda a, b: a + b)"
   ]
  },
  {
   "cell_type": "code",
   "execution_count": 13,
   "metadata": {},
   "outputs": [
    {
     "data": {
      "text/plain": [
       "[('the', 27363),\n",
       " ('and', 26028),\n",
       " ('i', 20681),\n",
       " ('to', 19150),\n",
       " ('of', 17467),\n",
       " ('a', 14593),\n",
       " ('you', 13615),\n",
       " ('my', 12480),\n",
       " ('in', 10956),\n",
       " ('that', 10890),\n",
       " ('is', 9134),\n",
       " ('not', 8497),\n",
       " ('with', 7771),\n",
       " ('me', 7768),\n",
       " ('it', 7678),\n",
       " ('for', 7558),\n",
       " ('his', 6857),\n",
       " ('be', 6857),\n",
       " ('your', 6655),\n",
       " ('this', 6603),\n",
       " ('but', 6265),\n",
       " ('he', 6251),\n",
       " ('have', 5880),\n",
       " ('as', 5733)]"
      ]
     },
     "execution_count": 13,
     "metadata": {},
     "output_type": "execute_result"
    }
   ],
   "source": [
    "result_0.filter(lambda word: word[0] != '').takeOrdered(24, key = lambda x: -x[1])"
   ]
  },
  {
   "cell_type": "code",
   "execution_count": 14,
   "metadata": {},
   "outputs": [
    {
     "data": {
      "text/plain": [
       "('as', 5733)"
      ]
     },
     "execution_count": 14,
     "metadata": {},
     "output_type": "execute_result"
    }
   ],
   "source": [
    "# Displaying the #24 most used word\n",
    "result_0.filter(lambda word: word[0] != '').takeOrdered(24, key = lambda x: -x[1])[-1]"
   ]
  },
  {
   "cell_type": "markdown",
   "metadata": {},
   "source": [
    "The Removal of the Disclamer and Legal Notes in the Shakespeare Export have no big influence on the most used word list. For the 24th most used word an interchange from \"have\" and \"as\" occured.\n",
    "\n",
    "In the following section english stopwords like \"i\", \"and\" and \"the\" are filtered to get a collection of more meaningful words."
   ]
  },
  {
   "cell_type": "code",
   "execution_count": 15,
   "metadata": {},
   "outputs": [
    {
     "name": "stdout",
     "output_type": "stream",
     "text": [
      "[nltk_data] Downloading package stopwords to /home/jens/nltk_data...\n",
      "[nltk_data]   Package stopwords is already up-to-date!\n"
     ]
    }
   ],
   "source": [
    "import nltk\n",
    "nltk.download('stopwords')\n",
    "from nltk.corpus import stopwords"
   ]
  },
  {
   "cell_type": "code",
   "execution_count": 16,
   "metadata": {},
   "outputs": [],
   "source": [
    "stop_words = stopwords.words('english')"
   ]
  },
  {
   "cell_type": "code",
   "execution_count": 17,
   "metadata": {},
   "outputs": [
    {
     "data": {
      "text/plain": [
       "[('thou', 5485),\n",
       " ('thy', 4032),\n",
       " ('shall', 3591),\n",
       " ('thee', 3178),\n",
       " ('lord', 3059),\n",
       " ('king', 2861),\n",
       " ('good', 2812),\n",
       " ('sir', 2754),\n",
       " ('come', 2507),\n",
       " ('well', 2462),\n",
       " ('would', 2293),\n",
       " ('let', 2099),\n",
       " ('enter', 2098),\n",
       " ('love', 2053),\n",
       " ('ill', 1972),\n",
       " ('hath', 1941),\n",
       " ('man', 1835),\n",
       " ('one', 1779),\n",
       " ('go', 1733),\n",
       " ('upon', 1731),\n",
       " ('like', 1701),\n",
       " ('say', 1680),\n",
       " ('know', 1647),\n",
       " ('may', 1633)]"
      ]
     },
     "execution_count": 17,
     "metadata": {},
     "output_type": "execute_result"
    }
   ],
   "source": [
    "result_0.filter(lambda word: word[0] not in stop_words and word[0] != '')\\\n",
    ".takeOrdered(24, key = lambda x: -x[1])"
   ]
  },
  {
   "cell_type": "markdown",
   "metadata": {},
   "source": [
    "The 24th most used word (after filtering english stopwords) is:"
   ]
  },
  {
   "cell_type": "code",
   "execution_count": 18,
   "metadata": {},
   "outputs": [
    {
     "data": {
      "text/plain": [
       "('may', 1633)"
      ]
     },
     "execution_count": 18,
     "metadata": {},
     "output_type": "execute_result"
    }
   ],
   "source": [
    "result_0.filter(lambda word: word[0] not in stop_words and word[0] != '').takeOrdered(24, key = lambda x: -x[1])[-1]"
   ]
  }
 ],
 "metadata": {
  "kernelspec": {
   "display_name": "Python 3",
   "language": "python",
   "name": "python3"
  },
  "language_info": {
   "codemirror_mode": {
    "name": "ipython",
    "version": 3
   },
   "file_extension": ".py",
   "mimetype": "text/x-python",
   "name": "python",
   "nbconvert_exporter": "python",
   "pygments_lexer": "ipython3",
   "version": "3.6.4"
  }
 },
 "nbformat": 4,
 "nbformat_minor": 2
}
